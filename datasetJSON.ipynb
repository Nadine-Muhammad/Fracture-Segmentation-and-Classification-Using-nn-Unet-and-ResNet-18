{
  "nbformat": 4,
  "nbformat_minor": 0,
  "metadata": {
    "colab": {
      "provenance": [],
      "gpuType": "T4"
    },
    "kernelspec": {
      "name": "python3",
      "display_name": "Python 3"
    },
    "language_info": {
      "name": "python"
    },
    "accelerator": "GPU"
  },
  "cells": [
    {
      "cell_type": "code",
      "source": [
        "import json\n",
        "\n",
        "def generate_dataset_json():\n",
        "    dataset_info = {\n",
        "        \"name\": \"FracAtlas\",\n",
        "        \"channel_names\": {\n",
        "            \"0\": \"rescale_to_0_1\"\n",
        "        },\n",
        "        \"labels\": {\n",
        "            \"0\": \"background\",\n",
        "            \"1\": \"fracture\"\n",
        "        },\n",
        "        \"numTraining\": 573,\n",
        "        \"numTest\": 144,\n",
        "        \"file_ending\": \".nii.gi\",\n",
        "        \"training\": [\n",
        "            {\n",
        "                \"image\": '/content/drive/MyDrive/FracAtlas/nnUNet/nnUNet_raw/imagesTr',\n",
        "                \"label\": '/content/drive/MyDrive/FracAtlas/nnUNet/nnUNet_raw/labelsTr',\n",
        "                \"case_id\": \"unique_id_for_case\"\n",
        "            },\n",
        "        ],\n",
        "        \"test\": [\n",
        "            {\n",
        "                \"image\": '/content/drive/MyDrive/FracAtlas/nnUNet/nnUNet_raw/imagesTs',\n",
        "                \"label\": '/content/drive/MyDrive/FracAtlas/nnUNet/nnUNet_raw/labelsTs',\n",
        "                \"case_id\": \"unique_id_for_case\"\n",
        "            },\n",
        "        ]\n",
        "    }\n",
        "\n",
        "    with open('/content/drive/MyDrive/FracAtlas/nnUNet/dataset.json', 'w') as json_file:\n",
        "        json.dump(dataset_info, json_file, indent=4)\n",
        "\n",
        "generate_dataset_json()\n"
      ],
      "metadata": {
        "id": "HW5lguTWdwA9"
      },
      "execution_count": 4,
      "outputs": []
    }
  ]
}
