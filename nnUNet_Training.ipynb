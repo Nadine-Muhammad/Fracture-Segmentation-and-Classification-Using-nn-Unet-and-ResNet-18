{
  "nbformat": 4,
  "nbformat_minor": 0,
  "metadata": {
    "colab": {
      "provenance": [],
      "gpuType": "T4"
    },
    "kernelspec": {
      "name": "python3",
      "display_name": "Python 3"
    },
    "language_info": {
      "name": "python"
    },
    "accelerator": "GPU"
  },
  "cells": [
    {
      "cell_type": "code",
      "source": [
        "from google.colab import drive\n",
        "drive.mount('/content/drive')"
      ],
      "metadata": {
        "id": "HCKXnOQEcc_d"
      },
      "execution_count": null,
      "outputs": []
    },
    {
      "cell_type": "code",
      "execution_count": null,
      "metadata": {
        "id": "vJaNl3gAh-YY"
      },
      "outputs": [],
      "source": [
        "!pip install torch torchvision"
      ]
    },
    {
      "cell_type": "code",
      "source": [
        "!pip install nnunetv2"
      ],
      "metadata": {
        "id": "1Y6zi_rPihd9"
      },
      "execution_count": null,
      "outputs": []
    },
    {
      "cell_type": "code",
      "source": [
        "import nibabel as nib\n",
        "import numpy as np\n",
        "import os\n",
        "import pathlib"
      ],
      "metadata": {
        "id": "5OlETGChwB5q"
      },
      "execution_count": 4,
      "outputs": []
    },
    {
      "cell_type": "markdown",
      "source": [
        "## Dataset Verification and Processing and Setting Up Environment Variables"
      ],
      "metadata": {
        "id": "5wpUQfTXmy8P"
      }
    },
    {
      "cell_type": "code",
      "source": [
        "import os\n",
        "os.environ['nnUNet_raw'] = \"/content/drive/MyDrive/FracAtlas/nnUNet/nnUNet_raw\"\n",
        "os.environ['nnUNet_preprocessed'] =  \"/content/drive/MyDrive/FracAtlas/nnUNet/nnUNet_preprocessed\"\n",
        "os.environ['nnUNet_results'] = \"/content/drive/MyDrive/FracAtlas/nnUNet/nnUNet_results\"\n",
        "\n",
        "# Verify dataset integrity\n",
        "!nnUNetv2_plan_and_preprocess -d 921 --verify_dataset_integrity"
      ],
      "metadata": {
        "id": "E4YPcvbmis9K",
        "colab": {
          "base_uri": "https://localhost:8080/"
        },
        "outputId": "dd88ef83-150f-44d7-ea34-41721eb6ed4f"
      },
      "execution_count": 5,
      "outputs": [
        {
          "output_type": "stream",
          "name": "stdout",
          "text": [
            "Fingerprint extraction...\n",
            "Dataset921_FracAtlas\n",
            "Using <class 'nnunetv2.imageio.simpleitk_reader_writer.SimpleITKIO'> as reader/writer\n",
            "\n",
            "####################\n",
            "verify_dataset_integrity Done. \n",
            "If you didn't see any error messages then your dataset is most likely OK!\n",
            "####################\n",
            "\n",
            "Experiment planning...\n",
            "2D U-Net configuration:\n",
            "{'data_identifier': 'nnUNetPlans_2d', 'preprocessor_name': 'DefaultPreprocessor', 'batch_size': 29, 'patch_size': array([224, 224]), 'median_image_size_in_voxels': array([224., 224.]), 'spacing': array([1., 1.]), 'normalization_schemes': ['RescaleTo01Normalization'], 'use_mask_for_norm': [False], 'UNet_class_name': 'PlainConvUNet', 'UNet_base_num_features': 32, 'n_conv_per_stage_encoder': (2, 2, 2, 2, 2, 2), 'n_conv_per_stage_decoder': (2, 2, 2, 2, 2), 'num_pool_per_axis': [5, 5], 'pool_op_kernel_sizes': [[1, 1], [2, 2], [2, 2], [2, 2], [2, 2], [2, 2]], 'conv_kernel_sizes': [[3, 3], [3, 3], [3, 3], [3, 3], [3, 3], [3, 3]], 'unet_max_num_features': 512, 'resampling_fn_data': 'resample_data_or_seg_to_shape', 'resampling_fn_seg': 'resample_data_or_seg_to_shape', 'resampling_fn_data_kwargs': {'is_seg': False, 'order': 3, 'order_z': 0, 'force_separate_z': None}, 'resampling_fn_seg_kwargs': {'is_seg': True, 'order': 1, 'order_z': 0, 'force_separate_z': None}, 'resampling_fn_probabilities': 'resample_data_or_seg_to_shape', 'resampling_fn_probabilities_kwargs': {'is_seg': False, 'order': 1, 'order_z': 0, 'force_separate_z': None}, 'batch_dice': True}\n",
            "\n",
            "Using <class 'nnunetv2.imageio.simpleitk_reader_writer.SimpleITKIO'> as reader/writer\n",
            "Plans were saved to /content/drive/MyDrive/FracAtlas/nnUNet/nnUNet_preprocessed/Dataset921_FracAtlas/nnUNetPlans.json\n",
            "Preprocessing...\n",
            "Preprocessing dataset Dataset921_FracAtlas\n",
            "Configuration: 2d...\n",
            "100% 573/573 [00:59<00:00,  9.66it/s]\n",
            "Configuration: 3d_fullres...\n",
            "INFO: Configuration 3d_fullres not found in plans file nnUNetPlans.json of dataset Dataset921_FracAtlas. Skipping.\n",
            "Configuration: 3d_lowres...\n",
            "INFO: Configuration 3d_lowres not found in plans file nnUNetPlans.json of dataset Dataset921_FracAtlas. Skipping.\n"
          ]
        }
      ]
    },
    {
      "cell_type": "markdown",
      "source": [
        "## Model Training"
      ],
      "metadata": {
        "id": "aIrEueNrnlPZ"
      }
    },
    {
      "cell_type": "code",
      "source": [
        "#Hiddenlayer package to print the network architecture to a PDF file for review\n",
        "!pip install --upgrade git+https://github.com/FabianIsensee/hiddenlayer.git"
      ],
      "metadata": {
        "id": "ys-NdNtenbfu"
      },
      "execution_count": null,
      "outputs": []
    },
    {
      "cell_type": "code",
      "source": [
        "!nnUNetv2_train -h"
      ],
      "metadata": {
        "colab": {
          "base_uri": "https://localhost:8080/"
        },
        "id": "ucbPMzemtcVk",
        "outputId": "733f0664-7e3a-4f7a-c916-e9527716d76f"
      },
      "execution_count": 7,
      "outputs": [
        {
          "output_type": "stream",
          "name": "stdout",
          "text": [
            "usage: nnUNetv2_train [-h] [-tr TR] [-p P] [-pretrained_weights PRETRAINED_WEIGHTS]\n",
            "                      [-num_gpus NUM_GPUS] [--use_compressed] [--npz] [--c] [--val] [--val_best]\n",
            "                      [--disable_checkpointing] [-device DEVICE]\n",
            "                      dataset_name_or_id configuration fold\n",
            "\n",
            "positional arguments:\n",
            "  dataset_name_or_id    Dataset name or ID to train with\n",
            "  configuration         Configuration that should be trained\n",
            "  fold                  Fold of the 5-fold cross-validation. Should be an int between 0 and 4.\n",
            "\n",
            "options:\n",
            "  -h, --help            show this help message and exit\n",
            "  -tr TR                [OPTIONAL] Use this flag to specify a custom trainer. Default:\n",
            "                        nnUNetTrainer\n",
            "  -p P                  [OPTIONAL] Use this flag to specify a custom plans identifier. Default:\n",
            "                        nnUNetPlans\n",
            "  -pretrained_weights PRETRAINED_WEIGHTS\n",
            "                        [OPTIONAL] path to nnU-Net checkpoint file to be used as pretrained model.\n",
            "                        Will only be used when actually training. Beta. Use with caution.\n",
            "  -num_gpus NUM_GPUS    Specify the number of GPUs to use for training\n",
            "  --use_compressed      [OPTIONAL] If you set this flag the training cases will not be\n",
            "                        decompressed. Reading compressed data is much more CPU and (potentially)\n",
            "                        RAM intensive and should only be used if you know what you are doing\n",
            "  --npz                 [OPTIONAL] Save softmax predictions from final validation as npz files (in\n",
            "                        addition to predicted segmentations). Needed for finding the best\n",
            "                        ensemble.\n",
            "  --c                   [OPTIONAL] Continue training from latest checkpoint\n",
            "  --val                 [OPTIONAL] Set this flag to only run the validation. Requires training to\n",
            "                        have finished.\n",
            "  --val_best            [OPTIONAL] If set, the validation will be performed with the\n",
            "                        checkpoint_best instead of checkpoint_final. NOT COMPATIBLE with\n",
            "                        --disable_checkpointing! WARNING: This will use the same 'validation'\n",
            "                        folder as the regular validation with no way of distinguishing the two!\n",
            "  --disable_checkpointing\n",
            "                        [OPTIONAL] Set this flag to disable checkpointing. Ideal for testing\n",
            "                        things out and you dont want to flood your hard drive with checkpoints.\n",
            "  -device DEVICE        Use this to set the device the training should run with. Available options\n",
            "                        are 'cuda' (GPU), 'cpu' (CPU) and 'mps' (Apple M1/M2). Do NOT use this to\n",
            "                        set which GPU ID! Use CUDA_VISIBLE_DEVICES=X nnUNetv2_train [...] instead!\n"
          ]
        }
      ]
    },
    {
      "cell_type": "markdown",
      "source": [
        "## Running Training One Fold at a Time"
      ],
      "metadata": {
        "id": "H2U7cXXhEFEJ"
      }
    },
    {
      "cell_type": "code",
      "source": [
        "!nnUNetv2_train 921 2d 0 --npz\n",
        "#Run this command instead when you want to continue training from latest checkpoint if your previous session was interrupted:\n",
        "#!nnUNetv2_train 921 2d 0 --npz --c"
      ],
      "metadata": {
        "colab": {
          "base_uri": "https://localhost:8080/"
        },
        "id": "Xbs78Ejintmn",
        "outputId": "0b6466f6-6eef-40fa-8bac-8d79378cad59"
      },
      "execution_count": 18,
      "outputs": [
        {
          "output_type": "stream",
          "name": "stdout",
          "text": [
            "Using device: cuda:0\n",
            "\n",
            "#######################################################################\n",
            "Please cite the following paper when using nnU-Net:\n",
            "Isensee, F., Jaeger, P. F., Kohl, S. A., Petersen, J., & Maier-Hein, K. H. (2021). nnU-Net: a self-configuring method for deep learning-based biomedical image segmentation. Nature methods, 18(2), 203-211.\n",
            "#######################################################################\n",
            "\n",
            "\n",
            "This is the configuration used by this training:\n",
            "Configuration name: 2d\n",
            " {'data_identifier': 'nnUNetPlans_2d', 'preprocessor_name': 'DefaultPreprocessor', 'batch_size': 29, 'patch_size': [224, 224], 'median_image_size_in_voxels': [224.0, 224.0], 'spacing': [1.0, 1.0], 'normalization_schemes': ['RescaleTo01Normalization'], 'use_mask_for_norm': [False], 'UNet_class_name': 'PlainConvUNet', 'UNet_base_num_features': 32, 'n_conv_per_stage_encoder': [2, 2, 2, 2, 2, 2], 'n_conv_per_stage_decoder': [2, 2, 2, 2, 2], 'num_pool_per_axis': [5, 5], 'pool_op_kernel_sizes': [[1, 1], [2, 2], [2, 2], [2, 2], [2, 2], [2, 2]], 'conv_kernel_sizes': [[3, 3], [3, 3], [3, 3], [3, 3], [3, 3], [3, 3]], 'unet_max_num_features': 512, 'resampling_fn_data': 'resample_data_or_seg_to_shape', 'resampling_fn_seg': 'resample_data_or_seg_to_shape', 'resampling_fn_data_kwargs': {'is_seg': False, 'order': 3, 'order_z': 0, 'force_separate_z': None}, 'resampling_fn_seg_kwargs': {'is_seg': True, 'order': 1, 'order_z': 0, 'force_separate_z': None}, 'resampling_fn_probabilities': 'resample_data_or_seg_to_shape', 'resampling_fn_probabilities_kwargs': {'is_seg': False, 'order': 1, 'order_z': 0, 'force_separate_z': None}, 'batch_dice': True} \n",
            "\n",
            "These are the global plan.json settings:\n",
            " {'dataset_name': 'Dataset921_FracAtlas', 'plans_name': 'nnUNetPlans', 'original_median_spacing_after_transp': [999.0, 1.0, 1.0], 'original_median_shape_after_transp': [1, 224, 224], 'image_reader_writer': 'SimpleITKIO', 'transpose_forward': [0, 1, 2], 'transpose_backward': [0, 1, 2], 'experiment_planner_used': 'ExperimentPlanner', 'label_manager': 'LabelManager', 'foreground_intensity_properties_per_channel': {'0': {'max': 243.0, 'mean': 43.413813948206304, 'median': 27.0, 'min': 0.0, 'percentile_00_5': 0.0, 'percentile_99_5': 236.0, 'std': 51.111432154021784}}} \n",
            "\n",
            "2023-11-18 01:30:52.751717: unpacking dataset...\n",
            "2023-11-18 01:31:00.034931: unpacking done...\n",
            "2023-11-18 01:31:00.037820: do_dummy_2d_data_aug: False\n",
            "2023-11-18 01:31:00.068946: Using splits from existing split file: /content/drive/MyDrive/FracAtlas/nnUNet/nnUNet_preprocessed/Dataset921_FracAtlas/splits_final.json\n",
            "2023-11-18 01:31:00.075320: The split file contains 5 splits.\n",
            "2023-11-18 01:31:00.077491: Desired fold for training: 0\n",
            "2023-11-18 01:31:00.080068: This split has 458 training and 115 validation cases.\n",
            "/usr/local/lib/python3.10/dist-packages/torch/onnx/symbolic_helper.py:1513: UserWarning: ONNX export mode is set to TrainingMode.EVAL, but operator 'instance_norm' is set to train=True. Exporting with train=True.\n",
            "  warnings.warn(\n",
            "2023-11-18 01:31:02.649008: \n",
            "2023-11-18 01:31:02.651415: Epoch 50\n",
            "2023-11-18 01:31:02.654211: Current learning rate: 0.00955\n",
            "using pin_memory on device 0\n",
            "Traceback (most recent call last):\n",
            "\n"
          ]
        }
      ]
    },
    {
      "cell_type": "code",
      "source": [
        "!nnUNetv2_train 921 2d 1 --npz --c"
      ],
      "metadata": {
        "id": "HUPdQ3WpDv3I"
      },
      "execution_count": null,
      "outputs": []
    },
    {
      "cell_type": "code",
      "source": [
        "!nnUNetv2_train 921 2d 2 --npz --c"
      ],
      "metadata": {
        "id": "MsCgglWMDwEg"
      },
      "execution_count": null,
      "outputs": []
    },
    {
      "cell_type": "code",
      "source": [
        "!nnUNetv2_train 921 2d 3 --npz --c"
      ],
      "metadata": {
        "id": "buGsOpvcDwL3"
      },
      "execution_count": null,
      "outputs": []
    },
    {
      "cell_type": "code",
      "source": [
        "!nnUNetv2_train 921 2d 4 --npz --c"
      ],
      "metadata": {
        "id": "J6xOVVcODwUS"
      },
      "execution_count": null,
      "outputs": []
    }
  ]
}