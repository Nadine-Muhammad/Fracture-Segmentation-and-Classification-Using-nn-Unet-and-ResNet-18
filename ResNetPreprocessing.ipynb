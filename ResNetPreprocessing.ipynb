{
  "cells": [
    {
      "cell_type": "code",
      "execution_count": null,
      "metadata": {
        "id": "2YIxxyMQcP5b"
      },
      "outputs": [],
      "source": [
        "import os\n",
        "import shutil\n",
        "import random"
      ]
    },
    {
      "cell_type": "code",
      "execution_count": null,
      "metadata": {
        "id": "G1rX3IsjjrXU"
      },
      "outputs": [],
      "source": [
        "!mkdir -p /content/drive/MyDrive/FracAtlas/ResNet18\n",
        "!mkdir -p /content/drive/MyDrive/FracAtlas/ResNet18/Train\n",
        "!mkdir -p /content/drive/MyDrive/FracAtlas/ResNet18/Train/Non_fractured\n",
        "!mkdir -p /content/drive/MyDrive/FracAtlas/ResNet18/Train/Fractured\n",
        "!mkdir -p /content/drive/MyDrive/FracAtlas/ResNet18/Test\n",
        "!mkdir -p /content/drive/MyDrive/FracAtlas/ResNet18/Test/Non_fractured\n",
        "!mkdir -p /content/drive/MyDrive/FracAtlas/ResNet18/Test/Fractured\n",
        "!mkdir -p /content/drive/MyDrive/FracAtlas/ResNet18/Val\n",
        "!mkdir -p /content/drive/MyDrive/FracAtlas/ResNet18/Val/Non_fractured\n",
        "!mkdir -p /content/drive/MyDrive/FracAtlas/ResNet18/Val/Fractured\n",
        "!mkdir -p /content/drive/MyDrive/FracAtlas/non\n",
        "!mkdir -p /content/drive/MyDrive/FracAtlas/fra"
      ]
    },
    {
      "cell_type": "code",
      "execution_count": null,
      "metadata": {
        "id": "i-pzIdVaaJkt"
      },
      "outputs": [],
      "source": [
        "def copy_random_files(src_folder, dest_folder, num_files=None):\n",
        "    # Create destination folder if it doesn't exist\n",
        "    os.makedirs(dest_folder, exist_ok=True)\n",
        "\n",
        "    # List of all files in the source folder\n",
        "    files = [f for f in os.listdir(src_folder) if os.path.isfile(os.path.join(src_folder, f))]\n",
        "    # Copy specified number of random files or all files if num_files is not provided\n",
        "    files_to_copy = random.sample(files, num_files) if num_files is not None else files\n",
        "\n",
        "    for file in files_to_copy:\n",
        "        src_path = os.path.join(src_folder, file)\n",
        "        dest_path = os.path.join(dest_folder, file)\n",
        "        shutil.copy2(src_path, dest_path)"
      ]
    },
    {
      "cell_type": "code",
      "execution_count": null,
      "metadata": {
        "id": "cB35yBS0g3Z5"
      },
      "outputs": [],
      "source": [
        "def count_files_in_folder(folder_path):\n",
        "    files = [f for f in os.listdir(folder_path) if os.path.isfile(os.path.join(folder_path, f))]\n",
        "    print(f\"Number of files in {folder_path}: {len(files)}\")"
      ]
    },
    {
      "cell_type": "code",
      "execution_count": null,
      "metadata": {
        "colab": {
          "base_uri": "https://localhost:8080/"
        },
        "id": "HVvRrtykhPqM",
        "outputId": "2ea2eb91-7500-45da-b23d-859cabede8a0"
      },
      "outputs": [
        {
          "name": "stdout",
          "output_type": "stream",
          "text": [
            "Number of files in /content/drive/MyDrive/FracAtlas/non: 698\n"
          ]
        }
      ],
      "source": [
        "num_files_to_copy = 698 \n",
        "source_folder = '/content/drive/MyDrive/FracAtlas/images/Non_fractured'\n",
        "destination_folder = '/content/drive/MyDrive/FracAtlas/non'\n",
        "copy_random_files(source_folder, destination_folder, num_files_to_copy)\n",
        "count_files_in_folder(destination_folder)"
      ]
    },
    {
      "cell_type": "code",
      "execution_count": null,
      "metadata": {
        "colab": {
          "base_uri": "https://localhost:8080/"
        },
        "id": "6dpiWXk5hPhu",
        "outputId": "153536ab-b949-4754-9f56-8251e68c7a3e"
      },
      "outputs": [
        {
          "name": "stdout",
          "output_type": "stream",
          "text": [
            "Number of files in /content/drive/MyDrive/FracAtlas/fra: 698\n"
          ]
        }
      ],
      "source": [
        "num_files_to_copy = 698\n",
        "source_folder = '/content/drive/MyDrive/FracAtlas/images/Fractured'\n",
        "destination_folder = '/content/drive/MyDrive/FracAtlas/fra'\n",
        "copy_random_files(source_folder, destination_folder, num_files_to_copy)\n",
        "count_files_in_folder(destination_folder)"
      ]
    },
    {
      "cell_type": "code",
      "execution_count": null,
      "metadata": {
        "id": "6J3JlKr-ddPu"
      },
      "outputs": [],
      "source": [
        "def move_random_files(src_folder, dest_folder, num_files=None):\n",
        "    os.makedirs(dest_folder, exist_ok=True)\n",
        "\n",
        "    files = [f for f in os.listdir(src_folder) if os.path.isfile(os.path.join(src_folder, f))]\n",
        "    # Shuffle the files randomly\n",
        "    random.shuffle(files)\n",
        "\n",
        "    # Move specified number of files or all files if num_files is not provided\n",
        "    files_to_move = files[:num_files] if num_files is not None else files\n",
        "\n",
        "    # Move each file to the destination folder\n",
        "    for file in files_to_move:\n",
        "        src_path = os.path.join(src_folder, file)\n",
        "        dest_path = os.path.join(dest_folder, file)\n",
        "        shutil.move(src_path, dest_path)"
      ]
    },
    {
      "cell_type": "code",
      "execution_count": null,
      "metadata": {
        "colab": {
          "base_uri": "https://localhost:8080/"
        },
        "id": "jGN8GPVvduis",
        "outputId": "35a960c5-1d3b-4b44-a59b-640bc436d599"
      },
      "outputs": [
        {
          "name": "stdout",
          "output_type": "stream",
          "text": [
            "Number of files in /content/drive/MyDrive/FracAtlas/ResNet18/Train/Fractured: 570\n"
          ]
        }
      ],
      "source": [
        "source_folder = '/content/drive/MyDrive/FracAtlas/fra'\n",
        "destination_folder = '/content/drive/MyDrive/FracAtlas/ResNet18/Train/Fractured'\n",
        "num_files_to_move = 570 \n",
        "move_random_files(source_folder, destination_folder, num_files_to_move)\n",
        "count_files_in_folder(destination_folder)"
      ]
    },
    {
      "cell_type": "code",
      "execution_count": null,
      "metadata": {
        "colab": {
          "base_uri": "https://localhost:8080/"
        },
        "id": "nEFX8-_Nd1Gu",
        "outputId": "5a001a55-1410-4127-b948-ecf8eaca8e32"
      },
      "outputs": [
        {
          "name": "stdout",
          "output_type": "stream",
          "text": [
            "Number of files in /content/drive/MyDrive/FracAtlas/ResNet18/Test/Fractured: 43\n"
          ]
        }
      ],
      "source": [
        "source_folder = '/content/drive/MyDrive/FracAtlas/fra'\n",
        "destination_folder = '/content/drive/MyDrive/FracAtlas/ResNet18/Test/Fractured'\n",
        "num_files_to_move = 43  \n",
        "move_random_files(source_folder, destination_folder, num_files_to_move)\n",
        "count_files_in_folder(destination_folder)"
      ]
    },
    {
      "cell_type": "code",
      "execution_count": null,
      "metadata": {
        "colab": {
          "base_uri": "https://localhost:8080/"
        },
        "id": "NfYC5B4-d5TQ",
        "outputId": "68cf8a61-c5e1-4966-87ae-6c854d39d713"
      },
      "outputs": [
        {
          "name": "stdout",
          "output_type": "stream",
          "text": [
            "Number of files in /content/drive/MyDrive/FracAtlas/ResNet18/Val/Fractured: 85\n"
          ]
        }
      ],
      "source": [
        "source_folder = '/content/drive/MyDrive/FracAtlas/fra'\n",
        "destination_folder = '/content/drive/MyDrive/FracAtlas/ResNet18/Val/Fractured'\n",
        "num_files_to_move = 85  \n",
        "move_random_files(source_folder, destination_folder, num_files_to_move)\n",
        "count_files_in_folder(destination_folder)"
      ]
    },
    {
      "cell_type": "code",
      "execution_count": null,
      "metadata": {
        "colab": {
          "base_uri": "https://localhost:8080/"
        },
        "id": "Sa5O_i_GeVlK",
        "outputId": "c4024b2e-aca1-4aa1-d897-10ffe0908d95"
      },
      "outputs": [
        {
          "name": "stdout",
          "output_type": "stream",
          "text": [
            "Number of files in /content/drive/MyDrive/FracAtlas/ResNet18/Train/Non_fractured: 570\n"
          ]
        }
      ],
      "source": [
        "source_folder = '/content/drive/MyDrive/FracAtlas/non'\n",
        "destination_folder = '/content/drive/MyDrive/FracAtlas/ResNet18/Train/Non_fractured'\n",
        "num_files_to_move = 570  \n",
        "move_random_files(source_folder, destination_folder, num_files_to_move)\n",
        "count_files_in_folder(destination_folder)"
      ]
    },
    {
      "cell_type": "code",
      "execution_count": null,
      "metadata": {
        "colab": {
          "base_uri": "https://localhost:8080/"
        },
        "id": "pjP0ayVeeaOH",
        "outputId": "a7bc29c3-8162-4f06-d8ec-fb7fd1d71d2b"
      },
      "outputs": [
        {
          "name": "stdout",
          "output_type": "stream",
          "text": [
            "Number of files in /content/drive/MyDrive/FracAtlas/ResNet18/Test/Non_fractured: 43\n"
          ]
        }
      ],
      "source": [
        "source_folder = '/content/drive/MyDrive/FracAtlas/non'\n",
        "destination_folder = '/content/drive/MyDrive/FracAtlas/ResNet18/Test/Non_fractured'\n",
        "num_files_to_move = 43  \n",
        "move_random_files(source_folder, destination_folder, num_files_to_move)\n",
        "count_files_in_folder(destination_folder)"
      ]
    },
    {
      "cell_type": "code",
      "execution_count": null,
      "metadata": {
        "colab": {
          "base_uri": "https://localhost:8080/"
        },
        "id": "9ESfeWclec_-",
        "outputId": "36585435-8ea3-4bca-8c75-a7ca4110e66b"
      },
      "outputs": [
        {
          "name": "stdout",
          "output_type": "stream",
          "text": [
            "Number of files in /content/drive/MyDrive/FracAtlas/ResNet18/Val/Non_fractured: 85\n"
          ]
        }
      ],
      "source": [
        "source_folder = '/content/drive/MyDrive/FracAtlas/non'\n",
        "destination_folder = '/content/drive/MyDrive/FracAtlas/ResNet18/Val/Non_fractured'\n",
        "num_files_to_move = 85 \n",
        "move_random_files(source_folder, destination_folder, num_files_to_move)\n",
        "count_files_in_folder(destination_folder)"
      ]
    }
  ],
  "metadata": {
    "colab": {
      "provenance": []
    },
    "kernelspec": {
      "display_name": "Python 3",
      "name": "python3"
    },
    "language_info": {
      "name": "python"
    }
  },
  "nbformat": 4,
  "nbformat_minor": 0
}
