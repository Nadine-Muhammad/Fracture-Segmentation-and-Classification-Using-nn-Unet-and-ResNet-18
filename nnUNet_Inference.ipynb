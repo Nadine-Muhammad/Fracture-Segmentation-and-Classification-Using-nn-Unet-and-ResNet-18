{
  "nbformat": 4,
  "nbformat_minor": 0,
  "metadata": {
    "colab": {
      "provenance": []
    },
    "kernelspec": {
      "name": "python3",
      "display_name": "Python 3"
    },
    "language_info": {
      "name": "python"
    }
  },
  "cells": [
    {
      "cell_type": "code",
      "execution_count": null,
      "metadata": {
        "id": "2k8FlfL8ZJBr"
      },
      "outputs": [],
      "source": [
        "from google.colab import drive\n",
        "drive.mount('/content/drive')"
      ]
    },
    {
      "cell_type": "code",
      "execution_count": null,
      "metadata": {
        "id": "vJaNl3gAh-YY"
      },
      "outputs": [],
      "source": [
        "!pip install torch torchvision"
      ]
    },
    {
      "cell_type": "code",
      "source": [
        "!pip install nnunetv2"
      ],
      "metadata": {
        "id": "Uw0b-Xe-ccoF"
      },
      "execution_count": null,
      "outputs": []
    },
    {
      "cell_type": "code",
      "source": [
        "import os\n",
        "os.environ['nnUNet_raw'] = \"/content/drive/MyDrive/FracAtlas/nnUNet/nnUNet_raw\"\n",
        "os.environ['nnUNet_preprocessed'] =  \"/content/drive/MyDrive/FracAtlas/nnUNet/nnUNet_preprocessed\"\n",
        "os.environ['nnUNet_results'] = \"/content/drive/MyDrive/FracAtlas/nnUNet/nnUNet_results\""
      ],
      "metadata": {
        "id": "sSuRmLficzCq"
      },
      "execution_count": null,
      "outputs": []
    },
    {
      "cell_type": "markdown",
      "source": [
        "## Find Out Best Configurations"
      ],
      "metadata": {
        "id": "r9-XkvZGhxc4"
      }
    },
    {
      "cell_type": "code",
      "source": [
        "#Allowing nnUNet to suggest best configurations for inference based on training results\n",
        "!nnUNetv2_find_best_configuration Dataset921_FracAtlas -c 2d UNet2D"
      ],
      "metadata": {
        "id": "SBS5WpoddGGz"
      },
      "execution_count": null,
      "outputs": []
    },
    {
      "cell_type": "markdown",
      "source": [
        "## Inference and Postprocessing"
      ],
      "metadata": {
        "id": "BCk-hIc9g3JA"
      }
    },
    {
      "cell_type": "code",
      "source": [
        "INPUT_FOLDER = \"/content/drive/MyDrive/FracAtlas/nnUNet/nnUNet_raw/Dataset921_FracAtlas/imagesTs\"\n",
        "OUTPUT_FOLDER  = \"/content/drive/MyDrive/FracAtlas/nnUNet/nnUNet_results/inference\"\n",
        "\n",
        "#Please insert below the command that nnUNet suggets after ***Run inference like this:*** when running configurations cell\n",
        "!"
      ],
      "metadata": {
        "id": "ium1jfrwdZQX"
      },
      "execution_count": null,
      "outputs": []
    },
    {
      "cell_type": "code",
      "source": [
        "OUTPUT_FOLDER_PP = \"/content/drive/MyDrive/FracAtlas/nnUNet/nnUNet_results/postprocessed\"\n",
        "\n",
        "#Please insert below the command that nnUNet suggets after ***Once inference is completed, run postprocessing like this:*** when running configurations cell\n",
        "!"
      ],
      "metadata": {
        "id": "012v0I8veEXj"
      },
      "execution_count": null,
      "outputs": []
    }
  ]
}